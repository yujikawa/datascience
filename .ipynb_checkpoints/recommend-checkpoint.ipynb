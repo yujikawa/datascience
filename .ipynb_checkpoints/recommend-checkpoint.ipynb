{
 "cells": [
  {
   "cell_type": "markdown",
   "metadata": {},
   "source": [
    "## 協調型推薦\n",
    "### ユーザベースの最近傍推薦"
   ]
  },
  {
   "cell_type": "code",
   "execution_count": 1,
   "metadata": {
    "collapsed": true
   },
   "outputs": [],
   "source": [
    "import pandas as pd\n",
    "import numpy as np\n",
    "from scipy.stats import pearsonr\n",
    "import matplotlib.pyplot as plt\n",
    "%matplotlib inline"
   ]
  },
  {
   "cell_type": "markdown",
   "metadata": {},
   "source": [
    "<pre>\n",
    "擬似データセットを作成\n",
    "各ユーザはアイテムごとの評価値があるとする。\n",
    "user1 = np.array([アイテム1, アイテム2, アイテム3, アイテム4, アイテム5])\n",
    "アリスはアイテム5を何点のスコアでつけるのかユーザベースで考えてみる\n",
    "</pre>"
   ]
  },
  {
   "cell_type": "code",
   "execution_count": 2,
   "metadata": {
    "collapsed": true
   },
   "outputs": [],
   "source": [
    "# データセット\n",
    "aris =  np.array([5,3,4,4]) # アリスだけアイテム５を買っておらず、そこを予測\n",
    "user1 = np.array([3,1,2,3,3])\n",
    "user2 = np.array([4,3,4,3,5])\n",
    "user3 = np.array([3,3,1,5,4])\n",
    "user4 = np.array([1,5,5,2,1])"
   ]
  },
  {
   "cell_type": "code",
   "execution_count": 3,
   "metadata": {},
   "outputs": [
    {
     "data": {
      "image/png": "[encoded data removed]",
      "text/plain": [
       "<matplotlib.figure.Figure at 0x10c26ca58>"
      ]
     },
     "metadata": {},
     "output_type": "display_data"
    }
   ],
   "source": [
    "plt.plot([1,2,3,4], aris)\n",
    "plt.plot([1,2,3,4], user1[:4])\n",
    "plt.plot([1,2,3,4], user4[:4])\n",
    "plt.show()"
   ]
  },
  {
   "cell_type": "markdown",
   "metadata": {},
   "source": [
    "<pre>\n",
    "ピアソンの相関係数でユーザ間の類似度を測る\n",
    "</pre>"
   ]
  },
  {
   "cell_type": "code",
   "execution_count": 6,
   "metadata": {},
   "outputs": [
    {
     "name": "stdout",
     "output_type": "stream",
     "text": [
      "user1= 0.852802865422\n",
      "user2= 0.707106781187\n",
      "user3= 0.0\n",
      "user4= -0.792118034381\n"
     ]
    }
   ],
   "source": [
    "(sim1, _p) = pearsonr(aris, user1[:4])\n",
    "(sim2, _p) = pearsonr(aris, user2[:4])\n",
    "(sim3, _p) = pearsonr(aris, user3[:4])\n",
    "(sim4, _p) = pearsonr(aris, user4[:4])\n",
    "print(\"user1=\",sim1)\n",
    "print(\"user2=\",sim2)\n",
    "print(\"user3=\",sim3)\n",
    "print(\"user4=\",sim4)"
   ]
  },
  {
   "cell_type": "markdown",
   "metadata": {},
   "source": [
    "<pre>\n",
    "ピアソンの相関係数を求めたことにより、類似しているユーザがユーザ１とユーザ２とわかった。\n",
    "ユーザaにおけるアイテムpの評価値を予測できる式は以下のような最近傍ユーザNの相対的な近接性とaの平均評価値によって計算する。\n",
    "</pre>\n",
    "\n",
    "\\begin{equation*}\n",
    "pred(a, p) = \\overline{r_a} + \\frac{ \\Sigma_{b\\in N} sim(a,b) \\times  (r_{b,p} - \\overline{r_b})}{ \\Sigma_{b\\in N} sim(a, b)}\n",
    "\\end{equation*}"
   ]
  },
  {
   "cell_type": "code",
   "execution_count": 18,
   "metadata": {},
   "outputs": [
    {
     "name": "stdout",
     "output_type": "stream",
     "text": [
      "アリスのアイテム５評価値はおよそ 4.87197989937 点\n"
     ]
    }
   ],
   "source": [
    "\n",
    "pred = np.average(aris) + (sim1 * (user1[4] - np.average(user1)) + sim2 * (user2[4] - np.average(user2) ) )/(sim1 + sim2)\n",
    "print(\"アリスのアイテム５評価値はおよそ\",pred,\"点\")"
   ]
  },
  {
   "cell_type": "code",
   "execution_count": null,
   "metadata": {},
   "outputs": [],
   "source": []
  },
  {
   "cell_type": "code",
   "execution_count": null,
   "metadata": {},
   "outputs": [],
   "source": []
  },
  {
   "cell_type": "code",
   "execution_count": null,
   "metadata": {
    "collapsed": true
   },
   "outputs": [],
   "source": []
  }
 ],
 "metadata": {
  "kernelspec": {
   "display_name": "Python 3",
   "language": "python",
   "name": "python3"
  },
  "language_info": {
   "codemirror_mode": {
    "name": "ipython",
    "version": 3
   },
   "file_extension": ".py",
   "mimetype": "text/x-python",
   "name": "python",
   "nbconvert_exporter": "python",
   "pygments_lexer": "ipython3",
   "version": "3.6.2"
  }
 },
 "nbformat": 4,
 "nbformat_minor": 2
}
