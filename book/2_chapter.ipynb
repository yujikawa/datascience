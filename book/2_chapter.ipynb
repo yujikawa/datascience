{
 "cells": [
  {
   "cell_type": "markdown",
   "metadata": {
    "slideshow": {
     "slide_type": "-"
    }
   },
   "source": [
    "# 第2章 標本が得られるプロセス"
   ]
  },
  {
   "cell_type": "markdown",
   "metadata": {},
   "source": [
    "## 確率変数\n",
    "<pre>\n",
    "確率的な法則にしたがって変化する値\n",
    "明日は10%の確率で「雨」\n",
    "明後日は20%の確率で「晴れ」\n",
    "ここでいう「雨」や「晴れ」は確率変数である\n",
    "確率変数に置ける具体的な値のことを実現値と呼ぶ\n",
    "</pre>"
   ]
  },
  {
   "cell_type": "markdown",
   "metadata": {},
   "source": [
    "## サンプリング\n",
    "<pre>母集団から標本を得ること</pre>\n",
    "## 単純ランダムサンプリング\n",
    "<pre>母集団の一つ一つの要素が無作為に選ばれるやり方</pre>\n",
    "## サンプルサイズ\n",
    "<pre>標本のサイズ</pre>\n"
   ]
  },
  {
   "cell_type": "markdown",
   "metadata": {},
   "source": [
    "## 全数調査\n",
    "<pre>母集団の調査</pre>\n",
    "## 標本調査\n",
    "<pre>母集団の一部を調べる調査</pre>"
   ]
  },
  {
   "cell_type": "code",
   "execution_count": null,
   "metadata": {},
   "outputs": [],
   "source": []
  }
 ],
 "metadata": {
  "kernelspec": {
   "display_name": "Python 3",
   "language": "python",
   "name": "python3"
  },
  "language_info": {
   "codemirror_mode": {
    "name": "ipython",
    "version": 3
   },
   "file_extension": ".py",
   "mimetype": "text/x-python",
   "name": "python",
   "nbconvert_exporter": "python",
   "pygments_lexer": "ipython3",
   "version": "3.7.3"
  }
 },
 "nbformat": 4,
 "nbformat_minor": 2
}
