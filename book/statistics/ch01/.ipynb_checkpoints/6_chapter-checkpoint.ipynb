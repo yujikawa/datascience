{
 "cells": [
  {
   "cell_type": "markdown",
   "metadata": {},
   "source": [
    "# 第6章 確率質量関数と確率密度関数"
   ]
  },
  {
   "cell_type": "markdown",
   "metadata": {},
   "source": [
    "データを引数にとって、確率を返す関数を<b>確率質量関数</b>と呼ぶ"
   ]
  },
  {
   "cell_type": "markdown",
   "metadata": {},
   "source": [
    "離散型の変数であれば、確率を直接計算することができるが、連続型の変数は確率の計算ができないことがある。\n",
    "魚の大きさの確率となる場合、計測する機械によっては4.０cmが4.01になるし、4.００１１０１かもしれない。ぴったり4cmというのは存在しない可能性があるとすれば4cmちょうどの確率は0となるこれでは扱いにくいので、確率の代わりに確率密度を扱う．体長４cmになる確率は求められないが、体長が4cmから5cmの間となる確率は、確率密度の4から5の間の積分によって求めることができる"
   ]
  },
  {
   "cell_type": "markdown",
   "metadata": {},
   "source": [
    "データを引数にとって、確率密度を返す関数を<b>確率密度関数</b>と呼ぶ"
   ]
  },
  {
   "cell_type": "markdown",
   "metadata": {},
   "source": [
    "## 正規分布\n",
    "1. -∞〜∞の実数値をとる\n",
    "2. 平均値の付近の確率密度が大きい\n",
    "3. 平均値から離れるほど、確率密度が小さくなる\n",
    "4. 確率密度の大きさは平均値を中心として左右対称"
   ]
  },
  {
   "cell_type": "code",
   "execution_count": 6,
   "metadata": {},
   "outputs": [
    {
     "data": {
      "image/png": "[encoded data removed]",
      "text/plain": [
       "<Figure size 432x288 with 1 Axes>"
      ]
     },
     "metadata": {
      "needs_background": "light"
     },
     "output_type": "display_data"
    }
   ],
   "source": [
    "# 平均4、標準偏差3の正規分布\n",
    "import numpy as np\n",
    "import matplotlib.pyplot as plt\n",
    "%matplotlib inline\n",
    "x = np.random.normal(4, 3, 100)\n",
    "plt.hist(x, bins=30)\n",
    "plt.show()"
   ]
  },
  {
   "cell_type": "markdown",
   "metadata": {},
   "source": [
    "正規分布の母数は平均と分散の二つ（確率分布のパラメタ）"
   ]
  },
  {
   "cell_type": "markdown",
   "metadata": {},
   "source": [
    "正規分布の確率密度関数は確率変数をxとするとN(x)と表記され、N(x)を計算するとある確率変数における確率密度が得られる\n",
    "確率分布のパラメタを明示すると下記のようになる\n",
    "$$\n",
    "N(x | μ, σ^2)\n",
    "$$"
   ]
  },
  {
   "cell_type": "markdown",
   "metadata": {},
   "source": [
    "データによっては正規分布では表現できないものもあり、そういう場合によく使われるのは二項分布やポアソン分布など.\n",
    "二項分布はコインの裏表などの２パターンの結果しか発生しないデータに適用される\n",
    "ポアソン分布は個数や回数など、０以上の整数しか取らないデータに対して適用される"
   ]
  },
  {
   "cell_type": "markdown",
   "metadata": {},
   "source": [
    "## 母集団分布の推定\n",
    "1. 分布の形を決める（正規分布にする！ or ポアソン分布にする!など）\n",
    "2. 母数（確率分布のパラメタ）を決める\n",
    "この二つの作業で母集団の分布を推定する"
   ]
  },
  {
   "cell_type": "markdown",
   "metadata": {},
   "source": [
    "### 母集団の分布に正規分布を仮定すれば、「母集団の分布の推定」という作業を正規分布の母数（確率分布のパラメタ）の推定という作業に置き換えられる"
   ]
  },
  {
   "cell_type": "markdown",
   "metadata": {},
   "source": [
    "母数を推定する最も簡単なアイデアは標本の統計量（平均値、分散など）を母集団分布の母数と考えること例えば<br>\n",
    "[2,3,3,4,4,4,4,5,5,6]というデータは平均値が4分散は1.2となるが、それを母集団の母数と考える"
   ]
  },
  {
   "cell_type": "code",
   "execution_count": 11,
   "metadata": {},
   "outputs": [
    {
     "data": {
      "image/png": "[encoded data removed]",
      "text/plain": [
       "<Figure size 432x288 with 1 Axes>"
      ]
     },
     "metadata": {
      "needs_background": "light"
     },
     "output_type": "display_data"
    }
   ],
   "source": [
    "data = [2,3,3,4,4,4,4,5,5,6]\n",
    "u = np.average(data) # 平均\n",
    "g =  np.var(data) # 分散\n",
    "\n",
    "x = np.random.normal(np.average(data), np.std(data), 100)\n",
    "plt.hist(x, bins=30)\n",
    "plt.show()"
   ]
  },
  {
   "cell_type": "markdown",
   "metadata": {},
   "source": [
    "標本を使って母集団について議論することが推測統計学の目的"
   ]
  },
  {
   "cell_type": "markdown",
   "metadata": {},
   "source": [
    "標本の統計量を母集団分布の母数と考えるという方法は少しズレがあるのが普通であり、推定された母数は推定誤差が生じる/\n",
    "推定誤差を加味した母数を推定する場合は区間推定の考えを用いる。また推定誤差がある中でも主張したいことがある場合は統計的仮説検定という枠組みを用いる"
   ]
  },
  {
   "cell_type": "code",
   "execution_count": null,
   "metadata": {},
   "outputs": [],
   "source": []
  }
 ],
 "metadata": {
  "kernelspec": {
   "display_name": "Python 3",
   "language": "python",
   "name": "python3"
  },
  "language_info": {
   "codemirror_mode": {
    "name": "ipython",
    "version": 3
   },
   "file_extension": ".py",
   "mimetype": "text/x-python",
   "name": "python",
   "nbconvert_exporter": "python",
   "pygments_lexer": "ipython3",
   "version": "3.7.3"
  }
 },
 "nbformat": 4,
 "nbformat_minor": 2
}
