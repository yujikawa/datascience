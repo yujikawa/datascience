{
 "cells": [
  {
   "cell_type": "markdown",
   "metadata": {},
   "source": [
    "# 第3章 標本が得られるプロセスの抽象化"
   ]
  },
  {
   "cell_type": "markdown",
   "metadata": {},
   "source": [
    "## 確率\n",
    "<pre>\n",
    "確率はPと表現することが多い\n",
    "P(雨) = 0.2 (20%)\n",
    "雨になる確率が20%\n",
    "P(1.5≦体長≦2.5)=20%\n",
    "</pre>"
   ]
  },
  {
   "cell_type": "markdown",
   "metadata": {},
   "source": [
    "## 確率分布\n",
    "<pre>確率変数とそれに付与された確率との対応したものを表したもの\n",
    "example)\n",
    "P(1.5≦体長＜2.5)=20%\n",
    "P(2.5≦体長＜3.5)=20%\n",
    "P(3.5≦体長＜4.5)=20%\n",
    "P(4.5≦体長＜5.5)=20%\n",
    "P(5.5≦体長＜6.5)=20%\n",
    "\n",
    "</pre>\n",
    "\n",
    "## 確率分布に従う\n",
    "釣れる魚の体長は1/5,1/5,1/5,1/5という確率分布に従うという"
   ]
  },
  {
   "cell_type": "markdown",
   "metadata": {},
   "source": [
    "## 母集団分布\n",
    "母集団に従う確率分布を母集団分布"
   ]
  },
  {
   "cell_type": "code",
   "execution_count": null,
   "metadata": {},
   "outputs": [],
   "source": []
  }
 ],
 "metadata": {
  "kernelspec": {
   "display_name": "Python 3",
   "language": "python",
   "name": "python3"
  },
  "language_info": {
   "codemirror_mode": {
    "name": "ipython",
    "version": 3
   },
   "file_extension": ".py",
   "mimetype": "text/x-python",
   "name": "python",
   "nbconvert_exporter": "python",
   "pygments_lexer": "ipython3",
   "version": "3.7.3"
  }
 },
 "nbformat": 4,
 "nbformat_minor": 2
}
