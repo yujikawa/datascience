{
 "cells": [
  {
   "cell_type": "markdown",
   "metadata": {},
   "source": [
    "# 時系列解析\n",
    "## 自己相関\n",
    "時間差を利用した自分自身との相関関係\n",
    "## ラグ\n",
    "ずらす時点の度合い、一つ前の時点だと１ラグ\n",
    "## コレログラム\n",
    "ラグ（横軸）と自己相関係数（縦軸）のグラフ\n",
    "## 自己相関関係の有無の調べ方\n",
    "LjungBox検定をする\n",
    "\n",
    "## 定常性\n",
    "下記の条件を満たす場合に定常性という\n",
    "$$\n",
    "\\{R_1, R_2....R_n\\}\n",
    "$$\n",
    "平均が一定である\n",
    "$$\n",
    "E(R_n) = a\n",
    "$$\n",
    "分散が一定である\n",
    "$$\n",
    "V(R_n)=0\n",
    "$$\n",
    "自己共分散がラグhだけに依存する\n",
    "$$\n",
    "Cov(R_h, R_{h+1} )\n",
    "$$\n",
    "## ホワイトノイズ\n",
    "平均が０、分散が一定、自己共分散が０のもの\n",
    "## 自己回帰モデル\n",
    "切片μと自己回帰係数φ、εがホワイトノイズ\n",
    "$$\n",
    "R_t = μ+φ_1R_{t-1}+ε_t\n",
    "$$\n",
    "## 単位根"
   ]
  },
  {
   "cell_type": "code",
   "execution_count": null,
   "metadata": {},
   "outputs": [],
   "source": []
  }
 ],
 "metadata": {
  "kernelspec": {
   "display_name": "Python 3",
   "language": "python",
   "name": "python3"
  },
  "language_info": {
   "codemirror_mode": {
    "name": "ipython",
    "version": 3
   },
   "file_extension": ".py",
   "mimetype": "text/x-python",
   "name": "python",
   "nbconvert_exporter": "python",
   "pygments_lexer": "ipython3",
   "version": "3.7.3"
  }
 },
 "nbformat": 4,
 "nbformat_minor": 2
}
